{
  "nbformat": 4,
  "nbformat_minor": 0,
  "metadata": {
    "colab": {
      "name": "Multiple Linear Regression - Prediksi Harga Laptop (M. Pratma Hidayatullah G1A018074).ipynb",
      "provenance": [],
      "collapsed_sections": []
    },
    "kernelspec": {
      "name": "python3",
      "display_name": "Python 3"
    },
    "language_info": {
      "name": "python"
    }
  },
  "cells": [
    {
      "cell_type": "markdown",
      "metadata": {
        "id": "KCEv1B8dGT5y"
      },
      "source": [
        "#CONTOH KASUS\n",
        "Aat tinggal dan belajar di eropa. Dia kurang ahli dalam membeli barang elektronik, tetapi dia ingin membeli Laptop seken untuk belajar, sehingga dia bertanya ke teman-teman nya, perangkat apa saja yang harus dimiliki laptop. dan akhirnya setelah banyak masukan Aat menarik kesimpulan spek minimum laptop yang ingin dia beli sebagai berikut:\n",
        "\n",
        "*   Keluaran    = Asus\n",
        "*   Ram         = 6 GB\n",
        "*   OS          = Windows 10\n",
        "*   Memory Size = 128 GB\n",
        "*   SSD/HDD/Both= SSD\n",
        "*   GPU         = AMD\n",
        "*   CPU         = Intel core i7\n",
        "\n",
        "Data harga Laptop dapat diambil dari dataset kaggle : \n",
        "https://www.kaggle.com/muhammetvarl/laptop-price"
      ]
    },
    {
      "cell_type": "markdown",
      "metadata": {
        "id": "iDAUJiPPJucW"
      },
      "source": [
        "#Penyelesaian Kasus\n",
        "Pada kasus kali ini, jika dilihat dari spek minimum yang diinginkan oleh Aat, kita dapat menggunakan metode Multiple Linear Regression, karena memiliki lebih dari satu variabel bebas.\n",
        "\n",
        "* Variabel bebas yaitu Keluaran, RAM, OS, Memory Size, SSD/HDD/Both, GPU, dan CPU\n",
        "* Variabel terikat yaitu harga laptop(euro)"
      ]
    },
    {
      "cell_type": "markdown",
      "metadata": {
        "id": "65EeDEo-KXHq"
      },
      "source": [
        "Langkah Pengerjaan Menggunakan Python\n",
        "\n",
        "Import Library yang akan digunakan :"
      ]
    },
    {
      "cell_type": "code",
      "metadata": {
        "id": "pwyjnM2nQol-"
      },
      "source": [
        "import re\n",
        "import pandas as pd\n",
        "import seaborn as sns\n",
        "import numpy as np\n",
        "import matplotlib.pyplot as plt\n",
        "from sklearn.linear_model import SGDRegressor,LinearRegression\n",
        "from sklearn.model_selection import train_test_split"
      ],
      "execution_count": 192,
      "outputs": []
    },
    {
      "cell_type": "markdown",
      "metadata": {
        "id": "idRKk5vzKc2Z"
      },
      "source": [
        "Panggil Dataset yang akan digunakan :"
      ]
    },
    {
      "cell_type": "code",
      "metadata": {
        "id": "tvyBwCgEQ79g",
        "colab": {
          "base_uri": "https://localhost:8080/",
          "height": 571
        },
        "outputId": "804a0083-6927-4fbc-d0f3-b44743ae2e37"
      },
      "source": [
        "df = pd.read_csv(\"/content/laptop_price.csv\", encoding = \"ISO-8859-1\", engine='python')\n",
        "df"
      ],
      "execution_count": 193,
      "outputs": [
        {
          "output_type": "execute_result",
          "data": {
            "text/html": [
              "<div>\n",
              "<style scoped>\n",
              "    .dataframe tbody tr th:only-of-type {\n",
              "        vertical-align: middle;\n",
              "    }\n",
              "\n",
              "    .dataframe tbody tr th {\n",
              "        vertical-align: top;\n",
              "    }\n",
              "\n",
              "    .dataframe thead th {\n",
              "        text-align: right;\n",
              "    }\n",
              "</style>\n",
              "<table border=\"1\" class=\"dataframe\">\n",
              "  <thead>\n",
              "    <tr style=\"text-align: right;\">\n",
              "      <th></th>\n",
              "      <th>laptop_ID</th>\n",
              "      <th>Company</th>\n",
              "      <th>Product</th>\n",
              "      <th>TypeName</th>\n",
              "      <th>Inches</th>\n",
              "      <th>ScreenResolution</th>\n",
              "      <th>Cpu</th>\n",
              "      <th>Ram</th>\n",
              "      <th>Memory</th>\n",
              "      <th>Gpu</th>\n",
              "      <th>OpSys</th>\n",
              "      <th>Weight</th>\n",
              "      <th>Price_euros</th>\n",
              "    </tr>\n",
              "  </thead>\n",
              "  <tbody>\n",
              "    <tr>\n",
              "      <th>0</th>\n",
              "      <td>1</td>\n",
              "      <td>Apple</td>\n",
              "      <td>MacBook Pro</td>\n",
              "      <td>Ultrabook</td>\n",
              "      <td>13.3</td>\n",
              "      <td>IPS Panel Retina Display 2560x1600</td>\n",
              "      <td>Intel Core i5 2.3GHz</td>\n",
              "      <td>8GB</td>\n",
              "      <td>128GB SSD</td>\n",
              "      <td>Intel Iris Plus Graphics 640</td>\n",
              "      <td>macOS</td>\n",
              "      <td>1.37kg</td>\n",
              "      <td>1339.69</td>\n",
              "    </tr>\n",
              "    <tr>\n",
              "      <th>1</th>\n",
              "      <td>2</td>\n",
              "      <td>Apple</td>\n",
              "      <td>Macbook Air</td>\n",
              "      <td>Ultrabook</td>\n",
              "      <td>13.3</td>\n",
              "      <td>1440x900</td>\n",
              "      <td>Intel Core i5 1.8GHz</td>\n",
              "      <td>8GB</td>\n",
              "      <td>128GB Flash Storage</td>\n",
              "      <td>Intel HD Graphics 6000</td>\n",
              "      <td>macOS</td>\n",
              "      <td>1.34kg</td>\n",
              "      <td>898.94</td>\n",
              "    </tr>\n",
              "    <tr>\n",
              "      <th>2</th>\n",
              "      <td>3</td>\n",
              "      <td>HP</td>\n",
              "      <td>250 G6</td>\n",
              "      <td>Notebook</td>\n",
              "      <td>15.6</td>\n",
              "      <td>Full HD 1920x1080</td>\n",
              "      <td>Intel Core i5 7200U 2.5GHz</td>\n",
              "      <td>8GB</td>\n",
              "      <td>256GB SSD</td>\n",
              "      <td>Intel HD Graphics 620</td>\n",
              "      <td>No OS</td>\n",
              "      <td>1.86kg</td>\n",
              "      <td>575.00</td>\n",
              "    </tr>\n",
              "    <tr>\n",
              "      <th>3</th>\n",
              "      <td>4</td>\n",
              "      <td>Apple</td>\n",
              "      <td>MacBook Pro</td>\n",
              "      <td>Ultrabook</td>\n",
              "      <td>15.4</td>\n",
              "      <td>IPS Panel Retina Display 2880x1800</td>\n",
              "      <td>Intel Core i7 2.7GHz</td>\n",
              "      <td>16GB</td>\n",
              "      <td>512GB SSD</td>\n",
              "      <td>AMD Radeon Pro 455</td>\n",
              "      <td>macOS</td>\n",
              "      <td>1.83kg</td>\n",
              "      <td>2537.45</td>\n",
              "    </tr>\n",
              "    <tr>\n",
              "      <th>4</th>\n",
              "      <td>5</td>\n",
              "      <td>Apple</td>\n",
              "      <td>MacBook Pro</td>\n",
              "      <td>Ultrabook</td>\n",
              "      <td>13.3</td>\n",
              "      <td>IPS Panel Retina Display 2560x1600</td>\n",
              "      <td>Intel Core i5 3.1GHz</td>\n",
              "      <td>8GB</td>\n",
              "      <td>256GB SSD</td>\n",
              "      <td>Intel Iris Plus Graphics 650</td>\n",
              "      <td>macOS</td>\n",
              "      <td>1.37kg</td>\n",
              "      <td>1803.60</td>\n",
              "    </tr>\n",
              "    <tr>\n",
              "      <th>...</th>\n",
              "      <td>...</td>\n",
              "      <td>...</td>\n",
              "      <td>...</td>\n",
              "      <td>...</td>\n",
              "      <td>...</td>\n",
              "      <td>...</td>\n",
              "      <td>...</td>\n",
              "      <td>...</td>\n",
              "      <td>...</td>\n",
              "      <td>...</td>\n",
              "      <td>...</td>\n",
              "      <td>...</td>\n",
              "      <td>...</td>\n",
              "    </tr>\n",
              "    <tr>\n",
              "      <th>1298</th>\n",
              "      <td>1316</td>\n",
              "      <td>Lenovo</td>\n",
              "      <td>Yoga 500-14ISK</td>\n",
              "      <td>2 in 1 Convertible</td>\n",
              "      <td>14.0</td>\n",
              "      <td>IPS Panel Full HD / Touchscreen 1920x1080</td>\n",
              "      <td>Intel Core i7 6500U 2.5GHz</td>\n",
              "      <td>4GB</td>\n",
              "      <td>128GB SSD</td>\n",
              "      <td>Intel HD Graphics 520</td>\n",
              "      <td>Windows 10</td>\n",
              "      <td>1.8kg</td>\n",
              "      <td>638.00</td>\n",
              "    </tr>\n",
              "    <tr>\n",
              "      <th>1299</th>\n",
              "      <td>1317</td>\n",
              "      <td>Lenovo</td>\n",
              "      <td>Yoga 900-13ISK</td>\n",
              "      <td>2 in 1 Convertible</td>\n",
              "      <td>13.3</td>\n",
              "      <td>IPS Panel Quad HD+ / Touchscreen 3200x1800</td>\n",
              "      <td>Intel Core i7 6500U 2.5GHz</td>\n",
              "      <td>16GB</td>\n",
              "      <td>512GB SSD</td>\n",
              "      <td>Intel HD Graphics 520</td>\n",
              "      <td>Windows 10</td>\n",
              "      <td>1.3kg</td>\n",
              "      <td>1499.00</td>\n",
              "    </tr>\n",
              "    <tr>\n",
              "      <th>1300</th>\n",
              "      <td>1318</td>\n",
              "      <td>Lenovo</td>\n",
              "      <td>IdeaPad 100S-14IBR</td>\n",
              "      <td>Notebook</td>\n",
              "      <td>14.0</td>\n",
              "      <td>1366x768</td>\n",
              "      <td>Intel Celeron Dual Core N3050 1.6GHz</td>\n",
              "      <td>2GB</td>\n",
              "      <td>64GB Flash Storage</td>\n",
              "      <td>Intel HD Graphics</td>\n",
              "      <td>Windows 10</td>\n",
              "      <td>1.5kg</td>\n",
              "      <td>229.00</td>\n",
              "    </tr>\n",
              "    <tr>\n",
              "      <th>1301</th>\n",
              "      <td>1319</td>\n",
              "      <td>HP</td>\n",
              "      <td>15-AC110nv (i7-6500U/6GB/1TB/Radeon</td>\n",
              "      <td>Notebook</td>\n",
              "      <td>15.6</td>\n",
              "      <td>1366x768</td>\n",
              "      <td>Intel Core i7 6500U 2.5GHz</td>\n",
              "      <td>6GB</td>\n",
              "      <td>1TB HDD</td>\n",
              "      <td>AMD Radeon R5 M330</td>\n",
              "      <td>Windows 10</td>\n",
              "      <td>2.19kg</td>\n",
              "      <td>764.00</td>\n",
              "    </tr>\n",
              "    <tr>\n",
              "      <th>1302</th>\n",
              "      <td>1320</td>\n",
              "      <td>Asus</td>\n",
              "      <td>X553SA-XX031T (N3050/4GB/500GB/W10)</td>\n",
              "      <td>Notebook</td>\n",
              "      <td>15.6</td>\n",
              "      <td>1366x768</td>\n",
              "      <td>Intel Celeron Dual Core N3050 1.6GHz</td>\n",
              "      <td>4GB</td>\n",
              "      <td>500GB HDD</td>\n",
              "      <td>Intel HD Graphics</td>\n",
              "      <td>Windows 10</td>\n",
              "      <td>2.2kg</td>\n",
              "      <td>369.00</td>\n",
              "    </tr>\n",
              "  </tbody>\n",
              "</table>\n",
              "<p>1303 rows × 13 columns</p>\n",
              "</div>"
            ],
            "text/plain": [
              "      laptop_ID Company  ...  Weight Price_euros\n",
              "0             1   Apple  ...  1.37kg     1339.69\n",
              "1             2   Apple  ...  1.34kg      898.94\n",
              "2             3      HP  ...  1.86kg      575.00\n",
              "3             4   Apple  ...  1.83kg     2537.45\n",
              "4             5   Apple  ...  1.37kg     1803.60\n",
              "...         ...     ...  ...     ...         ...\n",
              "1298       1316  Lenovo  ...   1.8kg      638.00\n",
              "1299       1317  Lenovo  ...   1.3kg     1499.00\n",
              "1300       1318  Lenovo  ...   1.5kg      229.00\n",
              "1301       1319      HP  ...  2.19kg      764.00\n",
              "1302       1320    Asus  ...   2.2kg      369.00\n",
              "\n",
              "[1303 rows x 13 columns]"
            ]
          },
          "metadata": {},
          "execution_count": 193
        }
      ]
    },
    {
      "cell_type": "markdown",
      "metadata": {
        "id": "54GOpVk0KzHr"
      },
      "source": [
        "#Data understanding\n",
        "\n",
        "Penjelasan atribut sebagai berikut :\n",
        "\n",
        "* Company = Perusahan yang mengeluarkan Laptop\n",
        "* Product = Model\n",
        "* TypeName = Type (Notebook, Ultrabook, Gaming, etc.)\n",
        "* Inches = Ukuran ayar\n",
        "* ScreenResolution = Resolusi layar\n",
        "* Cpu = Central Processing Unit (CPU) yang digunakan\n",
        "* Ram = RAM laptop\n",
        "* Memory = Hard Disk / SSD Memory\n",
        "* GPU = Graphics Processing Units (GPU) yang digunakan\n",
        "* OpSys = Operating System yang digunakan\n",
        "* Weight = berat laptop\n",
        "* Price_euros = Harga laptop(euro)"
      ]
    },
    {
      "cell_type": "markdown",
      "metadata": {
        "id": "r6jecOurL9oP"
      },
      "source": [
        "Melihat informasi dari data seperti jumlah data, tipe data, dsb."
      ]
    },
    {
      "cell_type": "code",
      "metadata": {
        "colab": {
          "base_uri": "https://localhost:8080/",
          "height": 0
        },
        "id": "yNIej8oBTcU9",
        "outputId": "134f0561-9f87-4bc1-fb87-48bc8786cf46"
      },
      "source": [
        "df.info()"
      ],
      "execution_count": 194,
      "outputs": [
        {
          "output_type": "stream",
          "name": "stdout",
          "text": [
            "<class 'pandas.core.frame.DataFrame'>\n",
            "RangeIndex: 1303 entries, 0 to 1302\n",
            "Data columns (total 13 columns):\n",
            " #   Column            Non-Null Count  Dtype  \n",
            "---  ------            --------------  -----  \n",
            " 0   laptop_ID         1303 non-null   int64  \n",
            " 1   Company           1303 non-null   object \n",
            " 2   Product           1303 non-null   object \n",
            " 3   TypeName          1303 non-null   object \n",
            " 4   Inches            1303 non-null   float64\n",
            " 5   ScreenResolution  1303 non-null   object \n",
            " 6   Cpu               1303 non-null   object \n",
            " 7   Ram               1303 non-null   object \n",
            " 8   Memory            1303 non-null   object \n",
            " 9   Gpu               1303 non-null   object \n",
            " 10  OpSys             1303 non-null   object \n",
            " 11  Weight            1303 non-null   object \n",
            " 12  Price_euros       1303 non-null   float64\n",
            "dtypes: float64(2), int64(1), object(10)\n",
            "memory usage: 132.5+ KB\n"
          ]
        }
      ]
    },
    {
      "cell_type": "markdown",
      "metadata": {
        "id": "6OSKtEn2MFR4"
      },
      "source": [
        "Melihat data kita apakah memiliki missing values atau tidak"
      ]
    },
    {
      "cell_type": "code",
      "metadata": {
        "colab": {
          "base_uri": "https://localhost:8080/",
          "height": 0
        },
        "id": "j2a_fR1DTu6H",
        "outputId": "d3211618-a49b-486c-c48b-0adb4d1076cd"
      },
      "source": [
        "df.isnull().sum()"
      ],
      "execution_count": 195,
      "outputs": [
        {
          "output_type": "execute_result",
          "data": {
            "text/plain": [
              "laptop_ID           0\n",
              "Company             0\n",
              "Product             0\n",
              "TypeName            0\n",
              "Inches              0\n",
              "ScreenResolution    0\n",
              "Cpu                 0\n",
              "Ram                 0\n",
              "Memory              0\n",
              "Gpu                 0\n",
              "OpSys               0\n",
              "Weight              0\n",
              "Price_euros         0\n",
              "dtype: int64"
            ]
          },
          "metadata": {},
          "execution_count": 195
        }
      ]
    },
    {
      "cell_type": "markdown",
      "metadata": {
        "id": "YkKn1a5TMZl_"
      },
      "source": [
        "#Analisis data eksploratif\n",
        "Kita tambah fitur untuk lebih mudah membaca data dan memahaminya"
      ]
    },
    {
      "cell_type": "code",
      "metadata": {
        "colab": {
          "base_uri": "https://localhost:8080/",
          "height": 896
        },
        "id": "-Cu6kY88RSRM",
        "outputId": "b0a8f35b-b0d7-460f-927c-b148003c1e5b"
      },
      "source": [
        "df['Ram']=df['Ram'].str.strip('GB').astype(int)\n",
        "df['Memory_size']=df['Memory'].apply(lambda x: re.sub(r'\\.0|GB','',str(x).replace('TB','000')))\n",
        "df['Memory_size']=df['Memory_size'].apply(lambda x: sum(int(re.search(r'\\d+',s).group()) for s in x.split('+')))\n",
        "df['Weight']=df['Weight'].str.strip('kg').astype(float)\n",
        "df['Memory']=df['Memory'].astype(str)\n",
        "df['SSD or Not or Both']=df.Memory.apply(lambda x: 'both' if 'SSD' in x and 'HDD' in x else 'Yes' if 'SSD' in x else 'No')\n",
        "df['Gpu_company'] = df.Gpu.apply(lambda x: x.split(' ')[0])\n",
        "df['Cpu_company']=df['Cpu'].str.split(' ', 1, expand=True)[0]\n",
        "df['Cpu_type']=df['Cpu'].str.split(' ', 1, expand=True)[1].apply(lambda x: x.split(' ')[1] if x.split(' ')[0]=='Core' else x.split(' ')[0])\n",
        "df"
      ],
      "execution_count": 196,
      "outputs": [
        {
          "output_type": "execute_result",
          "data": {
            "text/html": [
              "<div>\n",
              "<style scoped>\n",
              "    .dataframe tbody tr th:only-of-type {\n",
              "        vertical-align: middle;\n",
              "    }\n",
              "\n",
              "    .dataframe tbody tr th {\n",
              "        vertical-align: top;\n",
              "    }\n",
              "\n",
              "    .dataframe thead th {\n",
              "        text-align: right;\n",
              "    }\n",
              "</style>\n",
              "<table border=\"1\" class=\"dataframe\">\n",
              "  <thead>\n",
              "    <tr style=\"text-align: right;\">\n",
              "      <th></th>\n",
              "      <th>laptop_ID</th>\n",
              "      <th>Company</th>\n",
              "      <th>Product</th>\n",
              "      <th>TypeName</th>\n",
              "      <th>Inches</th>\n",
              "      <th>ScreenResolution</th>\n",
              "      <th>Cpu</th>\n",
              "      <th>Ram</th>\n",
              "      <th>Memory</th>\n",
              "      <th>Gpu</th>\n",
              "      <th>OpSys</th>\n",
              "      <th>Weight</th>\n",
              "      <th>Price_euros</th>\n",
              "      <th>Memory_size</th>\n",
              "      <th>SSD or Not or Both</th>\n",
              "      <th>Gpu_company</th>\n",
              "      <th>Cpu_company</th>\n",
              "      <th>Cpu_type</th>\n",
              "    </tr>\n",
              "  </thead>\n",
              "  <tbody>\n",
              "    <tr>\n",
              "      <th>0</th>\n",
              "      <td>1</td>\n",
              "      <td>Apple</td>\n",
              "      <td>MacBook Pro</td>\n",
              "      <td>Ultrabook</td>\n",
              "      <td>13.3</td>\n",
              "      <td>IPS Panel Retina Display 2560x1600</td>\n",
              "      <td>Intel Core i5 2.3GHz</td>\n",
              "      <td>8</td>\n",
              "      <td>128GB SSD</td>\n",
              "      <td>Intel Iris Plus Graphics 640</td>\n",
              "      <td>macOS</td>\n",
              "      <td>1.37</td>\n",
              "      <td>1339.69</td>\n",
              "      <td>128</td>\n",
              "      <td>Yes</td>\n",
              "      <td>Intel</td>\n",
              "      <td>Intel</td>\n",
              "      <td>i5</td>\n",
              "    </tr>\n",
              "    <tr>\n",
              "      <th>1</th>\n",
              "      <td>2</td>\n",
              "      <td>Apple</td>\n",
              "      <td>Macbook Air</td>\n",
              "      <td>Ultrabook</td>\n",
              "      <td>13.3</td>\n",
              "      <td>1440x900</td>\n",
              "      <td>Intel Core i5 1.8GHz</td>\n",
              "      <td>8</td>\n",
              "      <td>128GB Flash Storage</td>\n",
              "      <td>Intel HD Graphics 6000</td>\n",
              "      <td>macOS</td>\n",
              "      <td>1.34</td>\n",
              "      <td>898.94</td>\n",
              "      <td>128</td>\n",
              "      <td>No</td>\n",
              "      <td>Intel</td>\n",
              "      <td>Intel</td>\n",
              "      <td>i5</td>\n",
              "    </tr>\n",
              "    <tr>\n",
              "      <th>2</th>\n",
              "      <td>3</td>\n",
              "      <td>HP</td>\n",
              "      <td>250 G6</td>\n",
              "      <td>Notebook</td>\n",
              "      <td>15.6</td>\n",
              "      <td>Full HD 1920x1080</td>\n",
              "      <td>Intel Core i5 7200U 2.5GHz</td>\n",
              "      <td>8</td>\n",
              "      <td>256GB SSD</td>\n",
              "      <td>Intel HD Graphics 620</td>\n",
              "      <td>No OS</td>\n",
              "      <td>1.86</td>\n",
              "      <td>575.00</td>\n",
              "      <td>256</td>\n",
              "      <td>Yes</td>\n",
              "      <td>Intel</td>\n",
              "      <td>Intel</td>\n",
              "      <td>i5</td>\n",
              "    </tr>\n",
              "    <tr>\n",
              "      <th>3</th>\n",
              "      <td>4</td>\n",
              "      <td>Apple</td>\n",
              "      <td>MacBook Pro</td>\n",
              "      <td>Ultrabook</td>\n",
              "      <td>15.4</td>\n",
              "      <td>IPS Panel Retina Display 2880x1800</td>\n",
              "      <td>Intel Core i7 2.7GHz</td>\n",
              "      <td>16</td>\n",
              "      <td>512GB SSD</td>\n",
              "      <td>AMD Radeon Pro 455</td>\n",
              "      <td>macOS</td>\n",
              "      <td>1.83</td>\n",
              "      <td>2537.45</td>\n",
              "      <td>512</td>\n",
              "      <td>Yes</td>\n",
              "      <td>AMD</td>\n",
              "      <td>Intel</td>\n",
              "      <td>i7</td>\n",
              "    </tr>\n",
              "    <tr>\n",
              "      <th>4</th>\n",
              "      <td>5</td>\n",
              "      <td>Apple</td>\n",
              "      <td>MacBook Pro</td>\n",
              "      <td>Ultrabook</td>\n",
              "      <td>13.3</td>\n",
              "      <td>IPS Panel Retina Display 2560x1600</td>\n",
              "      <td>Intel Core i5 3.1GHz</td>\n",
              "      <td>8</td>\n",
              "      <td>256GB SSD</td>\n",
              "      <td>Intel Iris Plus Graphics 650</td>\n",
              "      <td>macOS</td>\n",
              "      <td>1.37</td>\n",
              "      <td>1803.60</td>\n",
              "      <td>256</td>\n",
              "      <td>Yes</td>\n",
              "      <td>Intel</td>\n",
              "      <td>Intel</td>\n",
              "      <td>i5</td>\n",
              "    </tr>\n",
              "    <tr>\n",
              "      <th>...</th>\n",
              "      <td>...</td>\n",
              "      <td>...</td>\n",
              "      <td>...</td>\n",
              "      <td>...</td>\n",
              "      <td>...</td>\n",
              "      <td>...</td>\n",
              "      <td>...</td>\n",
              "      <td>...</td>\n",
              "      <td>...</td>\n",
              "      <td>...</td>\n",
              "      <td>...</td>\n",
              "      <td>...</td>\n",
              "      <td>...</td>\n",
              "      <td>...</td>\n",
              "      <td>...</td>\n",
              "      <td>...</td>\n",
              "      <td>...</td>\n",
              "      <td>...</td>\n",
              "    </tr>\n",
              "    <tr>\n",
              "      <th>1298</th>\n",
              "      <td>1316</td>\n",
              "      <td>Lenovo</td>\n",
              "      <td>Yoga 500-14ISK</td>\n",
              "      <td>2 in 1 Convertible</td>\n",
              "      <td>14.0</td>\n",
              "      <td>IPS Panel Full HD / Touchscreen 1920x1080</td>\n",
              "      <td>Intel Core i7 6500U 2.5GHz</td>\n",
              "      <td>4</td>\n",
              "      <td>128GB SSD</td>\n",
              "      <td>Intel HD Graphics 520</td>\n",
              "      <td>Windows 10</td>\n",
              "      <td>1.80</td>\n",
              "      <td>638.00</td>\n",
              "      <td>128</td>\n",
              "      <td>Yes</td>\n",
              "      <td>Intel</td>\n",
              "      <td>Intel</td>\n",
              "      <td>i7</td>\n",
              "    </tr>\n",
              "    <tr>\n",
              "      <th>1299</th>\n",
              "      <td>1317</td>\n",
              "      <td>Lenovo</td>\n",
              "      <td>Yoga 900-13ISK</td>\n",
              "      <td>2 in 1 Convertible</td>\n",
              "      <td>13.3</td>\n",
              "      <td>IPS Panel Quad HD+ / Touchscreen 3200x1800</td>\n",
              "      <td>Intel Core i7 6500U 2.5GHz</td>\n",
              "      <td>16</td>\n",
              "      <td>512GB SSD</td>\n",
              "      <td>Intel HD Graphics 520</td>\n",
              "      <td>Windows 10</td>\n",
              "      <td>1.30</td>\n",
              "      <td>1499.00</td>\n",
              "      <td>512</td>\n",
              "      <td>Yes</td>\n",
              "      <td>Intel</td>\n",
              "      <td>Intel</td>\n",
              "      <td>i7</td>\n",
              "    </tr>\n",
              "    <tr>\n",
              "      <th>1300</th>\n",
              "      <td>1318</td>\n",
              "      <td>Lenovo</td>\n",
              "      <td>IdeaPad 100S-14IBR</td>\n",
              "      <td>Notebook</td>\n",
              "      <td>14.0</td>\n",
              "      <td>1366x768</td>\n",
              "      <td>Intel Celeron Dual Core N3050 1.6GHz</td>\n",
              "      <td>2</td>\n",
              "      <td>64GB Flash Storage</td>\n",
              "      <td>Intel HD Graphics</td>\n",
              "      <td>Windows 10</td>\n",
              "      <td>1.50</td>\n",
              "      <td>229.00</td>\n",
              "      <td>64</td>\n",
              "      <td>No</td>\n",
              "      <td>Intel</td>\n",
              "      <td>Intel</td>\n",
              "      <td>Celeron</td>\n",
              "    </tr>\n",
              "    <tr>\n",
              "      <th>1301</th>\n",
              "      <td>1319</td>\n",
              "      <td>HP</td>\n",
              "      <td>15-AC110nv (i7-6500U/6GB/1TB/Radeon</td>\n",
              "      <td>Notebook</td>\n",
              "      <td>15.6</td>\n",
              "      <td>1366x768</td>\n",
              "      <td>Intel Core i7 6500U 2.5GHz</td>\n",
              "      <td>6</td>\n",
              "      <td>1TB HDD</td>\n",
              "      <td>AMD Radeon R5 M330</td>\n",
              "      <td>Windows 10</td>\n",
              "      <td>2.19</td>\n",
              "      <td>764.00</td>\n",
              "      <td>1000</td>\n",
              "      <td>No</td>\n",
              "      <td>AMD</td>\n",
              "      <td>Intel</td>\n",
              "      <td>i7</td>\n",
              "    </tr>\n",
              "    <tr>\n",
              "      <th>1302</th>\n",
              "      <td>1320</td>\n",
              "      <td>Asus</td>\n",
              "      <td>X553SA-XX031T (N3050/4GB/500GB/W10)</td>\n",
              "      <td>Notebook</td>\n",
              "      <td>15.6</td>\n",
              "      <td>1366x768</td>\n",
              "      <td>Intel Celeron Dual Core N3050 1.6GHz</td>\n",
              "      <td>4</td>\n",
              "      <td>500GB HDD</td>\n",
              "      <td>Intel HD Graphics</td>\n",
              "      <td>Windows 10</td>\n",
              "      <td>2.20</td>\n",
              "      <td>369.00</td>\n",
              "      <td>500</td>\n",
              "      <td>No</td>\n",
              "      <td>Intel</td>\n",
              "      <td>Intel</td>\n",
              "      <td>Celeron</td>\n",
              "    </tr>\n",
              "  </tbody>\n",
              "</table>\n",
              "<p>1303 rows × 18 columns</p>\n",
              "</div>"
            ],
            "text/plain": [
              "      laptop_ID Company  ... Cpu_company Cpu_type\n",
              "0             1   Apple  ...       Intel       i5\n",
              "1             2   Apple  ...       Intel       i5\n",
              "2             3      HP  ...       Intel       i5\n",
              "3             4   Apple  ...       Intel       i7\n",
              "4             5   Apple  ...       Intel       i5\n",
              "...         ...     ...  ...         ...      ...\n",
              "1298       1316  Lenovo  ...       Intel       i7\n",
              "1299       1317  Lenovo  ...       Intel       i7\n",
              "1300       1318  Lenovo  ...       Intel  Celeron\n",
              "1301       1319      HP  ...       Intel       i7\n",
              "1302       1320    Asus  ...       Intel  Celeron\n",
              "\n",
              "[1303 rows x 18 columns]"
            ]
          },
          "metadata": {},
          "execution_count": 196
        }
      ]
    },
    {
      "cell_type": "markdown",
      "metadata": {
        "id": "ivi7kUO7NICM"
      },
      "source": [
        "Buang data yang sekiranya tidak kita gunakan"
      ]
    },
    {
      "cell_type": "code",
      "metadata": {
        "colab": {
          "base_uri": "https://localhost:8080/",
          "height": 408
        },
        "id": "HhUTS8JdrEIk",
        "outputId": "cb586dbe-ffd6-4d36-e131-fb26b8e10622"
      },
      "source": [
        "df.drop(['Cpu','Weight','laptop_ID','Product','Inches','ScreenResolution','Memory','Gpu','TypeName'],inplace=True,axis=1)\n",
        "df"
      ],
      "execution_count": 197,
      "outputs": [
        {
          "output_type": "execute_result",
          "data": {
            "text/html": [
              "<div>\n",
              "<style scoped>\n",
              "    .dataframe tbody tr th:only-of-type {\n",
              "        vertical-align: middle;\n",
              "    }\n",
              "\n",
              "    .dataframe tbody tr th {\n",
              "        vertical-align: top;\n",
              "    }\n",
              "\n",
              "    .dataframe thead th {\n",
              "        text-align: right;\n",
              "    }\n",
              "</style>\n",
              "<table border=\"1\" class=\"dataframe\">\n",
              "  <thead>\n",
              "    <tr style=\"text-align: right;\">\n",
              "      <th></th>\n",
              "      <th>Company</th>\n",
              "      <th>Ram</th>\n",
              "      <th>OpSys</th>\n",
              "      <th>Price_euros</th>\n",
              "      <th>Memory_size</th>\n",
              "      <th>SSD or Not or Both</th>\n",
              "      <th>Gpu_company</th>\n",
              "      <th>Cpu_company</th>\n",
              "      <th>Cpu_type</th>\n",
              "    </tr>\n",
              "  </thead>\n",
              "  <tbody>\n",
              "    <tr>\n",
              "      <th>0</th>\n",
              "      <td>Apple</td>\n",
              "      <td>8</td>\n",
              "      <td>macOS</td>\n",
              "      <td>1339.69</td>\n",
              "      <td>128</td>\n",
              "      <td>Yes</td>\n",
              "      <td>Intel</td>\n",
              "      <td>Intel</td>\n",
              "      <td>i5</td>\n",
              "    </tr>\n",
              "    <tr>\n",
              "      <th>1</th>\n",
              "      <td>Apple</td>\n",
              "      <td>8</td>\n",
              "      <td>macOS</td>\n",
              "      <td>898.94</td>\n",
              "      <td>128</td>\n",
              "      <td>No</td>\n",
              "      <td>Intel</td>\n",
              "      <td>Intel</td>\n",
              "      <td>i5</td>\n",
              "    </tr>\n",
              "    <tr>\n",
              "      <th>2</th>\n",
              "      <td>HP</td>\n",
              "      <td>8</td>\n",
              "      <td>No OS</td>\n",
              "      <td>575.00</td>\n",
              "      <td>256</td>\n",
              "      <td>Yes</td>\n",
              "      <td>Intel</td>\n",
              "      <td>Intel</td>\n",
              "      <td>i5</td>\n",
              "    </tr>\n",
              "    <tr>\n",
              "      <th>3</th>\n",
              "      <td>Apple</td>\n",
              "      <td>16</td>\n",
              "      <td>macOS</td>\n",
              "      <td>2537.45</td>\n",
              "      <td>512</td>\n",
              "      <td>Yes</td>\n",
              "      <td>AMD</td>\n",
              "      <td>Intel</td>\n",
              "      <td>i7</td>\n",
              "    </tr>\n",
              "    <tr>\n",
              "      <th>4</th>\n",
              "      <td>Apple</td>\n",
              "      <td>8</td>\n",
              "      <td>macOS</td>\n",
              "      <td>1803.60</td>\n",
              "      <td>256</td>\n",
              "      <td>Yes</td>\n",
              "      <td>Intel</td>\n",
              "      <td>Intel</td>\n",
              "      <td>i5</td>\n",
              "    </tr>\n",
              "    <tr>\n",
              "      <th>...</th>\n",
              "      <td>...</td>\n",
              "      <td>...</td>\n",
              "      <td>...</td>\n",
              "      <td>...</td>\n",
              "      <td>...</td>\n",
              "      <td>...</td>\n",
              "      <td>...</td>\n",
              "      <td>...</td>\n",
              "      <td>...</td>\n",
              "    </tr>\n",
              "    <tr>\n",
              "      <th>1298</th>\n",
              "      <td>Lenovo</td>\n",
              "      <td>4</td>\n",
              "      <td>Windows 10</td>\n",
              "      <td>638.00</td>\n",
              "      <td>128</td>\n",
              "      <td>Yes</td>\n",
              "      <td>Intel</td>\n",
              "      <td>Intel</td>\n",
              "      <td>i7</td>\n",
              "    </tr>\n",
              "    <tr>\n",
              "      <th>1299</th>\n",
              "      <td>Lenovo</td>\n",
              "      <td>16</td>\n",
              "      <td>Windows 10</td>\n",
              "      <td>1499.00</td>\n",
              "      <td>512</td>\n",
              "      <td>Yes</td>\n",
              "      <td>Intel</td>\n",
              "      <td>Intel</td>\n",
              "      <td>i7</td>\n",
              "    </tr>\n",
              "    <tr>\n",
              "      <th>1300</th>\n",
              "      <td>Lenovo</td>\n",
              "      <td>2</td>\n",
              "      <td>Windows 10</td>\n",
              "      <td>229.00</td>\n",
              "      <td>64</td>\n",
              "      <td>No</td>\n",
              "      <td>Intel</td>\n",
              "      <td>Intel</td>\n",
              "      <td>Celeron</td>\n",
              "    </tr>\n",
              "    <tr>\n",
              "      <th>1301</th>\n",
              "      <td>HP</td>\n",
              "      <td>6</td>\n",
              "      <td>Windows 10</td>\n",
              "      <td>764.00</td>\n",
              "      <td>1000</td>\n",
              "      <td>No</td>\n",
              "      <td>AMD</td>\n",
              "      <td>Intel</td>\n",
              "      <td>i7</td>\n",
              "    </tr>\n",
              "    <tr>\n",
              "      <th>1302</th>\n",
              "      <td>Asus</td>\n",
              "      <td>4</td>\n",
              "      <td>Windows 10</td>\n",
              "      <td>369.00</td>\n",
              "      <td>500</td>\n",
              "      <td>No</td>\n",
              "      <td>Intel</td>\n",
              "      <td>Intel</td>\n",
              "      <td>Celeron</td>\n",
              "    </tr>\n",
              "  </tbody>\n",
              "</table>\n",
              "<p>1303 rows × 9 columns</p>\n",
              "</div>"
            ],
            "text/plain": [
              "     Company  Ram       OpSys  ...  Gpu_company  Cpu_company Cpu_type\n",
              "0      Apple    8       macOS  ...        Intel        Intel       i5\n",
              "1      Apple    8       macOS  ...        Intel        Intel       i5\n",
              "2         HP    8       No OS  ...        Intel        Intel       i5\n",
              "3      Apple   16       macOS  ...          AMD        Intel       i7\n",
              "4      Apple    8       macOS  ...        Intel        Intel       i5\n",
              "...      ...  ...         ...  ...          ...          ...      ...\n",
              "1298  Lenovo    4  Windows 10  ...        Intel        Intel       i7\n",
              "1299  Lenovo   16  Windows 10  ...        Intel        Intel       i7\n",
              "1300  Lenovo    2  Windows 10  ...        Intel        Intel  Celeron\n",
              "1301      HP    6  Windows 10  ...          AMD        Intel       i7\n",
              "1302    Asus    4  Windows 10  ...        Intel        Intel  Celeron\n",
              "\n",
              "[1303 rows x 9 columns]"
            ]
          },
          "metadata": {},
          "execution_count": 197
        }
      ]
    },
    {
      "cell_type": "markdown",
      "metadata": {
        "id": "WqDLGEmeNXun"
      },
      "source": [
        "Untuk mempermudah proses linier regression, maka kita perlu mengubah tipe data yang object menjadi int"
      ]
    },
    {
      "cell_type": "code",
      "metadata": {
        "colab": {
          "base_uri": "https://localhost:8080/",
          "height": 408
        },
        "id": "fqh9GMdPaDRv",
        "outputId": "4147308f-8526-4e22-f0e9-d06c258258f8"
      },
      "source": [
        "le={}\n",
        "for col in set(df.columns).difference({'Price_euros','Memory_size','Ram'}):\n",
        "    le[col] = LabelEncoder()\n",
        "    df[col]  = le[col].fit_transform(df[col])\n",
        "df"
      ],
      "execution_count": 198,
      "outputs": [
        {
          "output_type": "execute_result",
          "data": {
            "text/html": [
              "<div>\n",
              "<style scoped>\n",
              "    .dataframe tbody tr th:only-of-type {\n",
              "        vertical-align: middle;\n",
              "    }\n",
              "\n",
              "    .dataframe tbody tr th {\n",
              "        vertical-align: top;\n",
              "    }\n",
              "\n",
              "    .dataframe thead th {\n",
              "        text-align: right;\n",
              "    }\n",
              "</style>\n",
              "<table border=\"1\" class=\"dataframe\">\n",
              "  <thead>\n",
              "    <tr style=\"text-align: right;\">\n",
              "      <th></th>\n",
              "      <th>Company</th>\n",
              "      <th>Ram</th>\n",
              "      <th>OpSys</th>\n",
              "      <th>Price_euros</th>\n",
              "      <th>Memory_size</th>\n",
              "      <th>SSD or Not or Both</th>\n",
              "      <th>Gpu_company</th>\n",
              "      <th>Cpu_company</th>\n",
              "      <th>Cpu_type</th>\n",
              "    </tr>\n",
              "  </thead>\n",
              "  <tbody>\n",
              "    <tr>\n",
              "      <th>0</th>\n",
              "      <td>1</td>\n",
              "      <td>8</td>\n",
              "      <td>8</td>\n",
              "      <td>1339.69</td>\n",
              "      <td>128</td>\n",
              "      <td>1</td>\n",
              "      <td>2</td>\n",
              "      <td>1</td>\n",
              "      <td>16</td>\n",
              "    </tr>\n",
              "    <tr>\n",
              "      <th>1</th>\n",
              "      <td>1</td>\n",
              "      <td>8</td>\n",
              "      <td>8</td>\n",
              "      <td>898.94</td>\n",
              "      <td>128</td>\n",
              "      <td>0</td>\n",
              "      <td>2</td>\n",
              "      <td>1</td>\n",
              "      <td>16</td>\n",
              "    </tr>\n",
              "    <tr>\n",
              "      <th>2</th>\n",
              "      <td>7</td>\n",
              "      <td>8</td>\n",
              "      <td>4</td>\n",
              "      <td>575.00</td>\n",
              "      <td>256</td>\n",
              "      <td>1</td>\n",
              "      <td>2</td>\n",
              "      <td>1</td>\n",
              "      <td>16</td>\n",
              "    </tr>\n",
              "    <tr>\n",
              "      <th>3</th>\n",
              "      <td>1</td>\n",
              "      <td>16</td>\n",
              "      <td>8</td>\n",
              "      <td>2537.45</td>\n",
              "      <td>512</td>\n",
              "      <td>1</td>\n",
              "      <td>0</td>\n",
              "      <td>1</td>\n",
              "      <td>17</td>\n",
              "    </tr>\n",
              "    <tr>\n",
              "      <th>4</th>\n",
              "      <td>1</td>\n",
              "      <td>8</td>\n",
              "      <td>8</td>\n",
              "      <td>1803.60</td>\n",
              "      <td>256</td>\n",
              "      <td>1</td>\n",
              "      <td>2</td>\n",
              "      <td>1</td>\n",
              "      <td>16</td>\n",
              "    </tr>\n",
              "    <tr>\n",
              "      <th>...</th>\n",
              "      <td>...</td>\n",
              "      <td>...</td>\n",
              "      <td>...</td>\n",
              "      <td>...</td>\n",
              "      <td>...</td>\n",
              "      <td>...</td>\n",
              "      <td>...</td>\n",
              "      <td>...</td>\n",
              "      <td>...</td>\n",
              "    </tr>\n",
              "    <tr>\n",
              "      <th>1298</th>\n",
              "      <td>10</td>\n",
              "      <td>4</td>\n",
              "      <td>5</td>\n",
              "      <td>638.00</td>\n",
              "      <td>128</td>\n",
              "      <td>1</td>\n",
              "      <td>2</td>\n",
              "      <td>1</td>\n",
              "      <td>17</td>\n",
              "    </tr>\n",
              "    <tr>\n",
              "      <th>1299</th>\n",
              "      <td>10</td>\n",
              "      <td>16</td>\n",
              "      <td>5</td>\n",
              "      <td>1499.00</td>\n",
              "      <td>512</td>\n",
              "      <td>1</td>\n",
              "      <td>2</td>\n",
              "      <td>1</td>\n",
              "      <td>17</td>\n",
              "    </tr>\n",
              "    <tr>\n",
              "      <th>1300</th>\n",
              "      <td>10</td>\n",
              "      <td>2</td>\n",
              "      <td>5</td>\n",
              "      <td>229.00</td>\n",
              "      <td>64</td>\n",
              "      <td>0</td>\n",
              "      <td>2</td>\n",
              "      <td>1</td>\n",
              "      <td>7</td>\n",
              "    </tr>\n",
              "    <tr>\n",
              "      <th>1301</th>\n",
              "      <td>7</td>\n",
              "      <td>6</td>\n",
              "      <td>5</td>\n",
              "      <td>764.00</td>\n",
              "      <td>1000</td>\n",
              "      <td>0</td>\n",
              "      <td>0</td>\n",
              "      <td>1</td>\n",
              "      <td>17</td>\n",
              "    </tr>\n",
              "    <tr>\n",
              "      <th>1302</th>\n",
              "      <td>2</td>\n",
              "      <td>4</td>\n",
              "      <td>5</td>\n",
              "      <td>369.00</td>\n",
              "      <td>500</td>\n",
              "      <td>0</td>\n",
              "      <td>2</td>\n",
              "      <td>1</td>\n",
              "      <td>7</td>\n",
              "    </tr>\n",
              "  </tbody>\n",
              "</table>\n",
              "<p>1303 rows × 9 columns</p>\n",
              "</div>"
            ],
            "text/plain": [
              "      Company  Ram  OpSys  ...  Gpu_company  Cpu_company  Cpu_type\n",
              "0           1    8      8  ...            2            1        16\n",
              "1           1    8      8  ...            2            1        16\n",
              "2           7    8      4  ...            2            1        16\n",
              "3           1   16      8  ...            0            1        17\n",
              "4           1    8      8  ...            2            1        16\n",
              "...       ...  ...    ...  ...          ...          ...       ...\n",
              "1298       10    4      5  ...            2            1        17\n",
              "1299       10   16      5  ...            2            1        17\n",
              "1300       10    2      5  ...            2            1         7\n",
              "1301        7    6      5  ...            0            1        17\n",
              "1302        2    4      5  ...            2            1         7\n",
              "\n",
              "[1303 rows x 9 columns]"
            ]
          },
          "metadata": {},
          "execution_count": 198
        }
      ]
    },
    {
      "cell_type": "markdown",
      "metadata": {
        "id": "8lRFq60uNsh_"
      },
      "source": [
        "Dapat dilihat data sudah berubah :"
      ]
    },
    {
      "cell_type": "code",
      "metadata": {
        "colab": {
          "base_uri": "https://localhost:8080/",
          "height": 0
        },
        "id": "38CLcCTJaYmd",
        "outputId": "66464b28-015b-4042-e98a-a59473ed440f"
      },
      "source": [
        "df.info()"
      ],
      "execution_count": 199,
      "outputs": [
        {
          "output_type": "stream",
          "name": "stdout",
          "text": [
            "<class 'pandas.core.frame.DataFrame'>\n",
            "RangeIndex: 1303 entries, 0 to 1302\n",
            "Data columns (total 9 columns):\n",
            " #   Column              Non-Null Count  Dtype  \n",
            "---  ------              --------------  -----  \n",
            " 0   Company             1303 non-null   int64  \n",
            " 1   Ram                 1303 non-null   int64  \n",
            " 2   OpSys               1303 non-null   int64  \n",
            " 3   Price_euros         1303 non-null   float64\n",
            " 4   Memory_size         1303 non-null   int64  \n",
            " 5   SSD or Not or Both  1303 non-null   int64  \n",
            " 6   Gpu_company         1303 non-null   int64  \n",
            " 7   Cpu_company         1303 non-null   int64  \n",
            " 8   Cpu_type            1303 non-null   int64  \n",
            "dtypes: float64(1), int64(8)\n",
            "memory usage: 91.7 KB\n"
          ]
        }
      ]
    },
    {
      "cell_type": "markdown",
      "metadata": {
        "id": "ARwD2EUNN0AU"
      },
      "source": [
        "#Analisis Univariat\n",
        "Melihat distribusi dari Price_euros"
      ]
    },
    {
      "cell_type": "code",
      "metadata": {
        "colab": {
          "base_uri": "https://localhost:8080/",
          "height": 332
        },
        "id": "c8lnzfhx5RsY",
        "outputId": "4672efbb-44cd-4573-c7be-2cfa875f9d09"
      },
      "source": [
        "f = plt.figure(figsize=(12,4))\n",
        "\n",
        "f.add_subplot(1,2,1)\n",
        "sns.countplot(df[\"Price_euros\"])\n",
        "\n",
        "f.add_subplot(1,2,2)\n",
        "plt.boxplot(df[\"Price_euros\"])\n",
        "plt.show()"
      ],
      "execution_count": 200,
      "outputs": [
        {
          "output_type": "stream",
          "name": "stderr",
          "text": [
            "/usr/local/lib/python3.7/dist-packages/seaborn/_decorators.py:43: FutureWarning: Pass the following variable as a keyword arg: x. From version 0.12, the only valid positional argument will be `data`, and passing other arguments without an explicit keyword will result in an error or misinterpretation.\n",
            "  FutureWarning\n"
          ]
        },
        {
          "output_type": "display_data",
          "data": {
            "image/png": "[encoded data removed]",
            "text/plain": [
              "<Figure size 864x288 with 2 Axes>"
            ]
          },
          "metadata": {
            "needs_background": "light"
          }
        }
      ]
    },
    {
      "cell_type": "markdown",
      "metadata": {
        "id": "dGj6T1S5OGut"
      },
      "source": [
        "Harga laptop dari data price_euros yang ada berkisar dari 0-2500 an\n",
        "\n",
        "Banyak terdapat data outliers (Data yang menyimpang terlalu jauh)"
      ]
    },
    {
      "cell_type": "markdown",
      "metadata": {
        "id": "4LZ3gNBtOu_l"
      },
      "source": [
        "Karena, data price_euros yang seharusnya menjadi harga acuan kita memiliki banyak data yang menyimpang. Maka, kita hapus data yang terdapat di outliers supaya data yang digunakan tidak memiliki penyimpangan yang berlebihan"
      ]
    },
    {
      "cell_type": "code",
      "metadata": {
        "id": "tGI3lPiE6qRO"
      },
      "source": [
        "df=df.drop(df[df.Price_euros>2500].index)"
      ],
      "execution_count": 201,
      "outputs": []
    },
    {
      "cell_type": "markdown",
      "metadata": {
        "id": "52Vlv3qsPMZT"
      },
      "source": [
        "Setelah itu kita lihat kembali distribusi dari price_euros, dapat dilihat tidak ada data pada outliers. Yang artinya tidak ada data yang menyimpang terlalu jauh"
      ]
    },
    {
      "cell_type": "code",
      "metadata": {
        "colab": {
          "base_uri": "https://localhost:8080/",
          "height": 332
        },
        "id": "rKvyKg7C6t39",
        "outputId": "41527db6-6951-4243-9c9a-d888cf099b8f"
      },
      "source": [
        "f = plt.figure(figsize=(12,4))\n",
        "\n",
        "f.add_subplot(1,2,1)\n",
        "sns.countplot(df[\"Price_euros\"])\n",
        "\n",
        "f.add_subplot(1,2,2)\n",
        "plt.boxplot(df[\"Price_euros\"])\n",
        "plt.show()"
      ],
      "execution_count": 202,
      "outputs": [
        {
          "output_type": "stream",
          "name": "stderr",
          "text": [
            "/usr/local/lib/python3.7/dist-packages/seaborn/_decorators.py:43: FutureWarning: Pass the following variable as a keyword arg: x. From version 0.12, the only valid positional argument will be `data`, and passing other arguments without an explicit keyword will result in an error or misinterpretation.\n",
            "  FutureWarning\n"
          ]
        },
        {
          "output_type": "display_data",
          "data": {
            "image/png": "[encoded data removed]",
            "text/plain": [
              "<Figure size 864x288 with 2 Axes>"
            ]
          },
          "metadata": {
            "needs_background": "light"
          }
        }
      ]
    },
    {
      "cell_type": "markdown",
      "metadata": {
        "id": "jk4WuCeiP8GB"
      },
      "source": [
        "#Analisis bivariat\n",
        "\n",
        "Melihat hubungan antara variabel x dan variabel y"
      ]
    },
    {
      "cell_type": "code",
      "metadata": {
        "colab": {
          "base_uri": "https://localhost:8080/",
          "height": 300
        },
        "id": "mjDRCmJN6-dg",
        "outputId": "b26e9078-657a-48dc-9ac4-ef3fa3e19b01"
      },
      "source": [
        "plt.figure(figsize=(10,8))\n",
        "sns.pairplot(data=df, x_vars=[\"Company\",\"Ram\",\"OpSys\",\"Memory_size\",\"SSD or Not or Both\",\"Gpu_company\",\"Cpu_company\",\"Cpu_type\"], y_vars=[\"Price_euros\"], height=5, aspect=0.75)\n",
        "plt.show()"
      ],
      "execution_count": 203,
      "outputs": [
        {
          "output_type": "display_data",
          "data": {
            "text/plain": [
              "<Figure size 720x576 with 0 Axes>"
            ]
          },
          "metadata": {}
        },
        {
          "output_type": "display_data",
          "data": {
            "image/png": "[encoded data removed]",
            "text/plain": [
              "<Figure size 2160x360 with 8 Axes>"
            ]
          },
          "metadata": {
            "needs_background": "light"
          }
        }
      ]
    },
    {
      "cell_type": "markdown",
      "metadata": {
        "id": "FzBRl5cQQEGe"
      },
      "source": [
        "Mengetahui nilai korelasi dari variabel x dan variabel y"
      ]
    },
    {
      "cell_type": "code",
      "metadata": {
        "colab": {
          "base_uri": "https://localhost:8080/",
          "height": 320
        },
        "id": "NZ-60MSH7lvp",
        "outputId": "669b1b63-b9f1-4cd9-b2d6-b5dc21a5d4f8"
      },
      "source": [
        "df.corr().style.background_gradient().set_precision(2)"
      ],
      "execution_count": 204,
      "outputs": [
        {
          "output_type": "execute_result",
          "data": {
            "text/html": [
              "<style  type=\"text/css\" >\n",
              "#T_93f56a14_4718_11ec_9b03_0242ac1c0002row0_col0,#T_93f56a14_4718_11ec_9b03_0242ac1c0002row1_col1,#T_93f56a14_4718_11ec_9b03_0242ac1c0002row2_col2,#T_93f56a14_4718_11ec_9b03_0242ac1c0002row3_col3,#T_93f56a14_4718_11ec_9b03_0242ac1c0002row4_col4,#T_93f56a14_4718_11ec_9b03_0242ac1c0002row5_col5,#T_93f56a14_4718_11ec_9b03_0242ac1c0002row6_col6,#T_93f56a14_4718_11ec_9b03_0242ac1c0002row7_col7,#T_93f56a14_4718_11ec_9b03_0242ac1c0002row8_col8{\n",
              "            background-color:  #023858;\n",
              "            color:  #f1f1f1;\n",
              "        }#T_93f56a14_4718_11ec_9b03_0242ac1c0002row0_col1,#T_93f56a14_4718_11ec_9b03_0242ac1c0002row0_col4,#T_93f56a14_4718_11ec_9b03_0242ac1c0002row0_col6,#T_93f56a14_4718_11ec_9b03_0242ac1c0002row0_col8,#T_93f56a14_4718_11ec_9b03_0242ac1c0002row4_col0,#T_93f56a14_4718_11ec_9b03_0242ac1c0002row4_col3,#T_93f56a14_4718_11ec_9b03_0242ac1c0002row4_col6,#T_93f56a14_4718_11ec_9b03_0242ac1c0002row4_col7,#T_93f56a14_4718_11ec_9b03_0242ac1c0002row7_col2,#T_93f56a14_4718_11ec_9b03_0242ac1c0002row7_col5{\n",
              "            background-color:  #fff7fb;\n",
              "            color:  #000000;\n",
              "        }#T_93f56a14_4718_11ec_9b03_0242ac1c0002row0_col2,#T_93f56a14_4718_11ec_9b03_0242ac1c0002row1_col2{\n",
              "            background-color:  #dfddec;\n",
              "            color:  #000000;\n",
              "        }#T_93f56a14_4718_11ec_9b03_0242ac1c0002row0_col3{\n",
              "            background-color:  #f5eef6;\n",
              "            color:  #000000;\n",
              "        }#T_93f56a14_4718_11ec_9b03_0242ac1c0002row0_col5{\n",
              "            background-color:  #fbf3f9;\n",
              "            color:  #000000;\n",
              "        }#T_93f56a14_4718_11ec_9b03_0242ac1c0002row0_col7{\n",
              "            background-color:  #f0eaf4;\n",
              "            color:  #000000;\n",
              "        }#T_93f56a14_4718_11ec_9b03_0242ac1c0002row1_col0,#T_93f56a14_4718_11ec_9b03_0242ac1c0002row6_col0{\n",
              "            background-color:  #eae6f1;\n",
              "            color:  #000000;\n",
              "        }#T_93f56a14_4718_11ec_9b03_0242ac1c0002row1_col3{\n",
              "            background-color:  #2987bc;\n",
              "            color:  #000000;\n",
              "        }#T_93f56a14_4718_11ec_9b03_0242ac1c0002row1_col4{\n",
              "            background-color:  #a2bcda;\n",
              "            color:  #000000;\n",
              "        }#T_93f56a14_4718_11ec_9b03_0242ac1c0002row1_col5,#T_93f56a14_4718_11ec_9b03_0242ac1c0002row8_col3{\n",
              "            background-color:  #7dacd1;\n",
              "            color:  #000000;\n",
              "        }#T_93f56a14_4718_11ec_9b03_0242ac1c0002row1_col6,#T_93f56a14_4718_11ec_9b03_0242ac1c0002row6_col1{\n",
              "            background-color:  #dad9ea;\n",
              "            color:  #000000;\n",
              "        }#T_93f56a14_4718_11ec_9b03_0242ac1c0002row1_col7,#T_93f56a14_4718_11ec_9b03_0242ac1c0002row6_col5{\n",
              "            background-color:  #e5e1ef;\n",
              "            color:  #000000;\n",
              "        }#T_93f56a14_4718_11ec_9b03_0242ac1c0002row1_col8{\n",
              "            background-color:  #a8bedc;\n",
              "            color:  #000000;\n",
              "        }#T_93f56a14_4718_11ec_9b03_0242ac1c0002row2_col0,#T_93f56a14_4718_11ec_9b03_0242ac1c0002row5_col4{\n",
              "            background-color:  #d9d8ea;\n",
              "            color:  #000000;\n",
              "        }#T_93f56a14_4718_11ec_9b03_0242ac1c0002row2_col1,#T_93f56a14_4718_11ec_9b03_0242ac1c0002row2_col4,#T_93f56a14_4718_11ec_9b03_0242ac1c0002row4_col8{\n",
              "            background-color:  #f2ecf5;\n",
              "            color:  #000000;\n",
              "        }#T_93f56a14_4718_11ec_9b03_0242ac1c0002row2_col3,#T_93f56a14_4718_11ec_9b03_0242ac1c0002row8_col4{\n",
              "            background-color:  #d5d5e8;\n",
              "            color:  #000000;\n",
              "        }#T_93f56a14_4718_11ec_9b03_0242ac1c0002row2_col5,#T_93f56a14_4718_11ec_9b03_0242ac1c0002row6_col4{\n",
              "            background-color:  #e9e5f1;\n",
              "            color:  #000000;\n",
              "        }#T_93f56a14_4718_11ec_9b03_0242ac1c0002row2_col6{\n",
              "            background-color:  #fef6fb;\n",
              "            color:  #000000;\n",
              "        }#T_93f56a14_4718_11ec_9b03_0242ac1c0002row2_col7{\n",
              "            background-color:  #fef6fa;\n",
              "            color:  #000000;\n",
              "        }#T_93f56a14_4718_11ec_9b03_0242ac1c0002row2_col8,#T_93f56a14_4718_11ec_9b03_0242ac1c0002row5_col7{\n",
              "            background-color:  #ebe6f2;\n",
              "            color:  #000000;\n",
              "        }#T_93f56a14_4718_11ec_9b03_0242ac1c0002row3_col0{\n",
              "            background-color:  #d6d6e9;\n",
              "            color:  #000000;\n",
              "        }#T_93f56a14_4718_11ec_9b03_0242ac1c0002row3_col1{\n",
              "            background-color:  #2383ba;\n",
              "            color:  #000000;\n",
              "        }#T_93f56a14_4718_11ec_9b03_0242ac1c0002row3_col2{\n",
              "            background-color:  #b3c3de;\n",
              "            color:  #000000;\n",
              "        }#T_93f56a14_4718_11ec_9b03_0242ac1c0002row3_col4,#T_93f56a14_4718_11ec_9b03_0242ac1c0002row5_col6{\n",
              "            background-color:  #e2dfee;\n",
              "            color:  #000000;\n",
              "        }#T_93f56a14_4718_11ec_9b03_0242ac1c0002row3_col5{\n",
              "            background-color:  #6da6cd;\n",
              "            color:  #000000;\n",
              "        }#T_93f56a14_4718_11ec_9b03_0242ac1c0002row3_col6{\n",
              "            background-color:  #cdd0e5;\n",
              "            color:  #000000;\n",
              "        }#T_93f56a14_4718_11ec_9b03_0242ac1c0002row3_col7,#T_93f56a14_4718_11ec_9b03_0242ac1c0002row5_col2{\n",
              "            background-color:  #d2d2e7;\n",
              "            color:  #000000;\n",
              "        }#T_93f56a14_4718_11ec_9b03_0242ac1c0002row3_col8,#T_93f56a14_4718_11ec_9b03_0242ac1c0002row5_col1{\n",
              "            background-color:  #78abd0;\n",
              "            color:  #000000;\n",
              "        }#T_93f56a14_4718_11ec_9b03_0242ac1c0002row4_col1{\n",
              "            background-color:  #c2cbe2;\n",
              "            color:  #000000;\n",
              "        }#T_93f56a14_4718_11ec_9b03_0242ac1c0002row4_col2{\n",
              "            background-color:  #f7f0f7;\n",
              "            color:  #000000;\n",
              "        }#T_93f56a14_4718_11ec_9b03_0242ac1c0002row4_col5{\n",
              "            background-color:  #f4edf6;\n",
              "            color:  #000000;\n",
              "        }#T_93f56a14_4718_11ec_9b03_0242ac1c0002row5_col0{\n",
              "            background-color:  #e1dfed;\n",
              "            color:  #000000;\n",
              "        }#T_93f56a14_4718_11ec_9b03_0242ac1c0002row5_col3{\n",
              "            background-color:  #73a9cf;\n",
              "            color:  #000000;\n",
              "        }#T_93f56a14_4718_11ec_9b03_0242ac1c0002row5_col8,#T_93f56a14_4718_11ec_9b03_0242ac1c0002row8_col5{\n",
              "            background-color:  #c0c9e2;\n",
              "            color:  #000000;\n",
              "        }#T_93f56a14_4718_11ec_9b03_0242ac1c0002row6_col2{\n",
              "            background-color:  #eee9f3;\n",
              "            color:  #000000;\n",
              "        }#T_93f56a14_4718_11ec_9b03_0242ac1c0002row6_col3{\n",
              "            background-color:  #d4d4e8;\n",
              "            color:  #000000;\n",
              "        }#T_93f56a14_4718_11ec_9b03_0242ac1c0002row6_col7{\n",
              "            background-color:  #6ba5cd;\n",
              "            color:  #000000;\n",
              "        }#T_93f56a14_4718_11ec_9b03_0242ac1c0002row6_col8{\n",
              "            background-color:  #bbc7e0;\n",
              "            color:  #000000;\n",
              "        }#T_93f56a14_4718_11ec_9b03_0242ac1c0002row7_col0{\n",
              "            background-color:  #ede7f2;\n",
              "            color:  #000000;\n",
              "        }#T_93f56a14_4718_11ec_9b03_0242ac1c0002row7_col1{\n",
              "            background-color:  #f8f1f8;\n",
              "            color:  #000000;\n",
              "        }#T_93f56a14_4718_11ec_9b03_0242ac1c0002row7_col3{\n",
              "            background-color:  #efe9f3;\n",
              "            color:  #000000;\n",
              "        }#T_93f56a14_4718_11ec_9b03_0242ac1c0002row7_col4{\n",
              "            background-color:  #fcf4fa;\n",
              "            color:  #000000;\n",
              "        }#T_93f56a14_4718_11ec_9b03_0242ac1c0002row7_col6{\n",
              "            background-color:  #86b0d3;\n",
              "            color:  #000000;\n",
              "        }#T_93f56a14_4718_11ec_9b03_0242ac1c0002row7_col8{\n",
              "            background-color:  #4c99c5;\n",
              "            color:  #000000;\n",
              "        }#T_93f56a14_4718_11ec_9b03_0242ac1c0002row8_col0{\n",
              "            background-color:  #e7e3f0;\n",
              "            color:  #000000;\n",
              "        }#T_93f56a14_4718_11ec_9b03_0242ac1c0002row8_col1{\n",
              "            background-color:  #a4bcda;\n",
              "            color:  #000000;\n",
              "        }#T_93f56a14_4718_11ec_9b03_0242ac1c0002row8_col2{\n",
              "            background-color:  #d2d3e7;\n",
              "            color:  #000000;\n",
              "        }#T_93f56a14_4718_11ec_9b03_0242ac1c0002row8_col6{\n",
              "            background-color:  #b5c4df;\n",
              "            color:  #000000;\n",
              "        }#T_93f56a14_4718_11ec_9b03_0242ac1c0002row8_col7{\n",
              "            background-color:  #328dbf;\n",
              "            color:  #000000;\n",
              "        }</style><table id=\"T_93f56a14_4718_11ec_9b03_0242ac1c0002\" class=\"dataframe\"><thead>    <tr>        <th class=\"blank level0\" ></th>        <th class=\"col_heading level0 col0\" >Company</th>        <th class=\"col_heading level0 col1\" >Ram</th>        <th class=\"col_heading level0 col2\" >OpSys</th>        <th class=\"col_heading level0 col3\" >Price_euros</th>        <th class=\"col_heading level0 col4\" >Memory_size</th>        <th class=\"col_heading level0 col5\" >SSD or Not or Both</th>        <th class=\"col_heading level0 col6\" >Gpu_company</th>        <th class=\"col_heading level0 col7\" >Cpu_company</th>        <th class=\"col_heading level0 col8\" >Cpu_type</th>    </tr></thead><tbody>\n",
              "                <tr>\n",
              "                        <th id=\"T_93f56a14_4718_11ec_9b03_0242ac1c0002level0_row0\" class=\"row_heading level0 row0\" >Company</th>\n",
              "                        <td id=\"T_93f56a14_4718_11ec_9b03_0242ac1c0002row0_col0\" class=\"data row0 col0\" >1.00</td>\n",
              "                        <td id=\"T_93f56a14_4718_11ec_9b03_0242ac1c0002row0_col1\" class=\"data row0 col1\" >0.06</td>\n",
              "                        <td id=\"T_93f56a14_4718_11ec_9b03_0242ac1c0002row0_col2\" class=\"data row0 col2\" >0.14</td>\n",
              "                        <td id=\"T_93f56a14_4718_11ec_9b03_0242ac1c0002row0_col3\" class=\"data row0 col3\" >0.15</td>\n",
              "                        <td id=\"T_93f56a14_4718_11ec_9b03_0242ac1c0002row0_col4\" class=\"data row0 col4\" >-0.09</td>\n",
              "                        <td id=\"T_93f56a14_4718_11ec_9b03_0242ac1c0002row0_col5\" class=\"data row0 col5\" >0.10</td>\n",
              "                        <td id=\"T_93f56a14_4718_11ec_9b03_0242ac1c0002row0_col6\" class=\"data row0 col6\" >0.06</td>\n",
              "                        <td id=\"T_93f56a14_4718_11ec_9b03_0242ac1c0002row0_col7\" class=\"data row0 col7\" >0.04</td>\n",
              "                        <td id=\"T_93f56a14_4718_11ec_9b03_0242ac1c0002row0_col8\" class=\"data row0 col8\" >0.07</td>\n",
              "            </tr>\n",
              "            <tr>\n",
              "                        <th id=\"T_93f56a14_4718_11ec_9b03_0242ac1c0002level0_row1\" class=\"row_heading level0 row1\" >Ram</th>\n",
              "                        <td id=\"T_93f56a14_4718_11ec_9b03_0242ac1c0002row1_col0\" class=\"data row1 col0\" >0.06</td>\n",
              "                        <td id=\"T_93f56a14_4718_11ec_9b03_0242ac1c0002row1_col1\" class=\"data row1 col1\" >1.00</td>\n",
              "                        <td id=\"T_93f56a14_4718_11ec_9b03_0242ac1c0002row1_col2\" class=\"data row1 col2\" >0.14</td>\n",
              "                        <td id=\"T_93f56a14_4718_11ec_9b03_0242ac1c0002row1_col3\" class=\"data row1 col3\" >0.69</td>\n",
              "                        <td id=\"T_93f56a14_4718_11ec_9b03_0242ac1c0002row1_col4\" class=\"data row1 col4\" >0.33</td>\n",
              "                        <td id=\"T_93f56a14_4718_11ec_9b03_0242ac1c0002row1_col5\" class=\"data row1 col5\" >0.52</td>\n",
              "                        <td id=\"T_93f56a14_4718_11ec_9b03_0242ac1c0002row1_col6\" class=\"data row1 col6\" >0.25</td>\n",
              "                        <td id=\"T_93f56a14_4718_11ec_9b03_0242ac1c0002row1_col7\" class=\"data row1 col7\" >0.10</td>\n",
              "                        <td id=\"T_93f56a14_4718_11ec_9b03_0242ac1c0002row1_col8\" class=\"data row1 col8\" >0.42</td>\n",
              "            </tr>\n",
              "            <tr>\n",
              "                        <th id=\"T_93f56a14_4718_11ec_9b03_0242ac1c0002level0_row2\" class=\"row_heading level0 row2\" >OpSys</th>\n",
              "                        <td id=\"T_93f56a14_4718_11ec_9b03_0242ac1c0002row2_col0\" class=\"data row2 col0\" >0.14</td>\n",
              "                        <td id=\"T_93f56a14_4718_11ec_9b03_0242ac1c0002row2_col1\" class=\"data row2 col1\" >0.14</td>\n",
              "                        <td id=\"T_93f56a14_4718_11ec_9b03_0242ac1c0002row2_col2\" class=\"data row2 col2\" >1.00</td>\n",
              "                        <td id=\"T_93f56a14_4718_11ec_9b03_0242ac1c0002row2_col3\" class=\"data row2 col3\" >0.30</td>\n",
              "                        <td id=\"T_93f56a14_4718_11ec_9b03_0242ac1c0002row2_col4\" class=\"data row2 col4\" >0.00</td>\n",
              "                        <td id=\"T_93f56a14_4718_11ec_9b03_0242ac1c0002row2_col5\" class=\"data row2 col5\" >0.20</td>\n",
              "                        <td id=\"T_93f56a14_4718_11ec_9b03_0242ac1c0002row2_col6\" class=\"data row2 col6\" >0.06</td>\n",
              "                        <td id=\"T_93f56a14_4718_11ec_9b03_0242ac1c0002row2_col7\" class=\"data row2 col7\" >-0.06</td>\n",
              "                        <td id=\"T_93f56a14_4718_11ec_9b03_0242ac1c0002row2_col8\" class=\"data row2 col8\" >0.20</td>\n",
              "            </tr>\n",
              "            <tr>\n",
              "                        <th id=\"T_93f56a14_4718_11ec_9b03_0242ac1c0002level0_row3\" class=\"row_heading level0 row3\" >Price_euros</th>\n",
              "                        <td id=\"T_93f56a14_4718_11ec_9b03_0242ac1c0002row3_col0\" class=\"data row3 col0\" >0.15</td>\n",
              "                        <td id=\"T_93f56a14_4718_11ec_9b03_0242ac1c0002row3_col1\" class=\"data row3 col1\" >0.69</td>\n",
              "                        <td id=\"T_93f56a14_4718_11ec_9b03_0242ac1c0002row3_col2\" class=\"data row3 col2\" >0.30</td>\n",
              "                        <td id=\"T_93f56a14_4718_11ec_9b03_0242ac1c0002row3_col3\" class=\"data row3 col3\" >1.00</td>\n",
              "                        <td id=\"T_93f56a14_4718_11ec_9b03_0242ac1c0002row3_col4\" class=\"data row3 col4\" >0.09</td>\n",
              "                        <td id=\"T_93f56a14_4718_11ec_9b03_0242ac1c0002row3_col5\" class=\"data row3 col5\" >0.55</td>\n",
              "                        <td id=\"T_93f56a14_4718_11ec_9b03_0242ac1c0002row3_col6\" class=\"data row3 col6\" >0.30</td>\n",
              "                        <td id=\"T_93f56a14_4718_11ec_9b03_0242ac1c0002row3_col7\" class=\"data row3 col7\" >0.19</td>\n",
              "                        <td id=\"T_93f56a14_4718_11ec_9b03_0242ac1c0002row3_col8\" class=\"data row3 col8\" >0.53</td>\n",
              "            </tr>\n",
              "            <tr>\n",
              "                        <th id=\"T_93f56a14_4718_11ec_9b03_0242ac1c0002level0_row4\" class=\"row_heading level0 row4\" >Memory_size</th>\n",
              "                        <td id=\"T_93f56a14_4718_11ec_9b03_0242ac1c0002row4_col0\" class=\"data row4 col0\" >-0.09</td>\n",
              "                        <td id=\"T_93f56a14_4718_11ec_9b03_0242ac1c0002row4_col1\" class=\"data row4 col1\" >0.33</td>\n",
              "                        <td id=\"T_93f56a14_4718_11ec_9b03_0242ac1c0002row4_col2\" class=\"data row4 col2\" >0.00</td>\n",
              "                        <td id=\"T_93f56a14_4718_11ec_9b03_0242ac1c0002row4_col3\" class=\"data row4 col3\" >0.09</td>\n",
              "                        <td id=\"T_93f56a14_4718_11ec_9b03_0242ac1c0002row4_col4\" class=\"data row4 col4\" >1.00</td>\n",
              "                        <td id=\"T_93f56a14_4718_11ec_9b03_0242ac1c0002row4_col5\" class=\"data row4 col5\" >0.14</td>\n",
              "                        <td id=\"T_93f56a14_4718_11ec_9b03_0242ac1c0002row4_col6\" class=\"data row4 col6\" >0.06</td>\n",
              "                        <td id=\"T_93f56a14_4718_11ec_9b03_0242ac1c0002row4_col7\" class=\"data row4 col7\" >-0.07</td>\n",
              "                        <td id=\"T_93f56a14_4718_11ec_9b03_0242ac1c0002row4_col8\" class=\"data row4 col8\" >0.16</td>\n",
              "            </tr>\n",
              "            <tr>\n",
              "                        <th id=\"T_93f56a14_4718_11ec_9b03_0242ac1c0002level0_row5\" class=\"row_heading level0 row5\" >SSD or Not or Both</th>\n",
              "                        <td id=\"T_93f56a14_4718_11ec_9b03_0242ac1c0002row5_col0\" class=\"data row5 col0\" >0.10</td>\n",
              "                        <td id=\"T_93f56a14_4718_11ec_9b03_0242ac1c0002row5_col1\" class=\"data row5 col1\" >0.52</td>\n",
              "                        <td id=\"T_93f56a14_4718_11ec_9b03_0242ac1c0002row5_col2\" class=\"data row5 col2\" >0.20</td>\n",
              "                        <td id=\"T_93f56a14_4718_11ec_9b03_0242ac1c0002row5_col3\" class=\"data row5 col3\" >0.55</td>\n",
              "                        <td id=\"T_93f56a14_4718_11ec_9b03_0242ac1c0002row5_col4\" class=\"data row5 col4\" >0.14</td>\n",
              "                        <td id=\"T_93f56a14_4718_11ec_9b03_0242ac1c0002row5_col5\" class=\"data row5 col5\" >1.00</td>\n",
              "                        <td id=\"T_93f56a14_4718_11ec_9b03_0242ac1c0002row5_col6\" class=\"data row5 col6\" >0.22</td>\n",
              "                        <td id=\"T_93f56a14_4718_11ec_9b03_0242ac1c0002row5_col7\" class=\"data row5 col7\" >0.07</td>\n",
              "                        <td id=\"T_93f56a14_4718_11ec_9b03_0242ac1c0002row5_col8\" class=\"data row5 col8\" >0.35</td>\n",
              "            </tr>\n",
              "            <tr>\n",
              "                        <th id=\"T_93f56a14_4718_11ec_9b03_0242ac1c0002level0_row6\" class=\"row_heading level0 row6\" >Gpu_company</th>\n",
              "                        <td id=\"T_93f56a14_4718_11ec_9b03_0242ac1c0002row6_col0\" class=\"data row6 col0\" >0.06</td>\n",
              "                        <td id=\"T_93f56a14_4718_11ec_9b03_0242ac1c0002row6_col1\" class=\"data row6 col1\" >0.25</td>\n",
              "                        <td id=\"T_93f56a14_4718_11ec_9b03_0242ac1c0002row6_col2\" class=\"data row6 col2\" >0.06</td>\n",
              "                        <td id=\"T_93f56a14_4718_11ec_9b03_0242ac1c0002row6_col3\" class=\"data row6 col3\" >0.30</td>\n",
              "                        <td id=\"T_93f56a14_4718_11ec_9b03_0242ac1c0002row6_col4\" class=\"data row6 col4\" >0.06</td>\n",
              "                        <td id=\"T_93f56a14_4718_11ec_9b03_0242ac1c0002row6_col5\" class=\"data row6 col5\" >0.22</td>\n",
              "                        <td id=\"T_93f56a14_4718_11ec_9b03_0242ac1c0002row6_col6\" class=\"data row6 col6\" >1.00</td>\n",
              "                        <td id=\"T_93f56a14_4718_11ec_9b03_0242ac1c0002row6_col7\" class=\"data row6 col7\" >0.49</td>\n",
              "                        <td id=\"T_93f56a14_4718_11ec_9b03_0242ac1c0002row6_col8\" class=\"data row6 col8\" >0.37</td>\n",
              "            </tr>\n",
              "            <tr>\n",
              "                        <th id=\"T_93f56a14_4718_11ec_9b03_0242ac1c0002level0_row7\" class=\"row_heading level0 row7\" >Cpu_company</th>\n",
              "                        <td id=\"T_93f56a14_4718_11ec_9b03_0242ac1c0002row7_col0\" class=\"data row7 col0\" >0.04</td>\n",
              "                        <td id=\"T_93f56a14_4718_11ec_9b03_0242ac1c0002row7_col1\" class=\"data row7 col1\" >0.10</td>\n",
              "                        <td id=\"T_93f56a14_4718_11ec_9b03_0242ac1c0002row7_col2\" class=\"data row7 col2\" >-0.06</td>\n",
              "                        <td id=\"T_93f56a14_4718_11ec_9b03_0242ac1c0002row7_col3\" class=\"data row7 col3\" >0.19</td>\n",
              "                        <td id=\"T_93f56a14_4718_11ec_9b03_0242ac1c0002row7_col4\" class=\"data row7 col4\" >-0.07</td>\n",
              "                        <td id=\"T_93f56a14_4718_11ec_9b03_0242ac1c0002row7_col5\" class=\"data row7 col5\" >0.07</td>\n",
              "                        <td id=\"T_93f56a14_4718_11ec_9b03_0242ac1c0002row7_col6\" class=\"data row7 col6\" >0.49</td>\n",
              "                        <td id=\"T_93f56a14_4718_11ec_9b03_0242ac1c0002row7_col7\" class=\"data row7 col7\" >1.00</td>\n",
              "                        <td id=\"T_93f56a14_4718_11ec_9b03_0242ac1c0002row7_col8\" class=\"data row7 col8\" >0.61</td>\n",
              "            </tr>\n",
              "            <tr>\n",
              "                        <th id=\"T_93f56a14_4718_11ec_9b03_0242ac1c0002level0_row8\" class=\"row_heading level0 row8\" >Cpu_type</th>\n",
              "                        <td id=\"T_93f56a14_4718_11ec_9b03_0242ac1c0002row8_col0\" class=\"data row8 col0\" >0.07</td>\n",
              "                        <td id=\"T_93f56a14_4718_11ec_9b03_0242ac1c0002row8_col1\" class=\"data row8 col1\" >0.42</td>\n",
              "                        <td id=\"T_93f56a14_4718_11ec_9b03_0242ac1c0002row8_col2\" class=\"data row8 col2\" >0.20</td>\n",
              "                        <td id=\"T_93f56a14_4718_11ec_9b03_0242ac1c0002row8_col3\" class=\"data row8 col3\" >0.53</td>\n",
              "                        <td id=\"T_93f56a14_4718_11ec_9b03_0242ac1c0002row8_col4\" class=\"data row8 col4\" >0.16</td>\n",
              "                        <td id=\"T_93f56a14_4718_11ec_9b03_0242ac1c0002row8_col5\" class=\"data row8 col5\" >0.35</td>\n",
              "                        <td id=\"T_93f56a14_4718_11ec_9b03_0242ac1c0002row8_col6\" class=\"data row8 col6\" >0.37</td>\n",
              "                        <td id=\"T_93f56a14_4718_11ec_9b03_0242ac1c0002row8_col7\" class=\"data row8 col7\" >0.61</td>\n",
              "                        <td id=\"T_93f56a14_4718_11ec_9b03_0242ac1c0002row8_col8\" class=\"data row8 col8\" >1.00</td>\n",
              "            </tr>\n",
              "    </tbody></table>"
            ],
            "text/plain": [
              "<pandas.io.formats.style.Styler at 0x7f23ee0619d0>"
            ]
          },
          "metadata": {},
          "execution_count": 204
        }
      ]
    },
    {
      "cell_type": "markdown",
      "metadata": {
        "id": "ej0guw7rQxg8"
      },
      "source": [
        "Dari tabel korelasi di atas; \n",
        "* Dapat dilihat bahwa Ram mempunyai hubungan linear positif yang sangat kuat dengan price_euros. Sedangkan,\n",
        "* Memory_size memiliki nilai kolerasi mendekati nol yang menandakan bahwa ukuran memori tidak terlalu berpengaruh pada harga"
      ]
    },
    {
      "cell_type": "markdown",
      "metadata": {
        "id": "wXmleSTIRfFr"
      },
      "source": [
        "#Modelling"
      ]
    },
    {
      "cell_type": "code",
      "metadata": {
        "colab": {
          "base_uri": "https://localhost:8080/",
          "height": 200
        },
        "id": "H5dxKRT47un7",
        "outputId": "7bf6fea5-8953-4994-ae8d-3d20b02b9efa"
      },
      "source": [
        "df.head()"
      ],
      "execution_count": 205,
      "outputs": [
        {
          "output_type": "execute_result",
          "data": {
            "text/html": [
              "<div>\n",
              "<style scoped>\n",
              "    .dataframe tbody tr th:only-of-type {\n",
              "        vertical-align: middle;\n",
              "    }\n",
              "\n",
              "    .dataframe tbody tr th {\n",
              "        vertical-align: top;\n",
              "    }\n",
              "\n",
              "    .dataframe thead th {\n",
              "        text-align: right;\n",
              "    }\n",
              "</style>\n",
              "<table border=\"1\" class=\"dataframe\">\n",
              "  <thead>\n",
              "    <tr style=\"text-align: right;\">\n",
              "      <th></th>\n",
              "      <th>Company</th>\n",
              "      <th>Ram</th>\n",
              "      <th>OpSys</th>\n",
              "      <th>Price_euros</th>\n",
              "      <th>Memory_size</th>\n",
              "      <th>SSD or Not or Both</th>\n",
              "      <th>Gpu_company</th>\n",
              "      <th>Cpu_company</th>\n",
              "      <th>Cpu_type</th>\n",
              "    </tr>\n",
              "  </thead>\n",
              "  <tbody>\n",
              "    <tr>\n",
              "      <th>0</th>\n",
              "      <td>1</td>\n",
              "      <td>8</td>\n",
              "      <td>8</td>\n",
              "      <td>1339.69</td>\n",
              "      <td>128</td>\n",
              "      <td>1</td>\n",
              "      <td>2</td>\n",
              "      <td>1</td>\n",
              "      <td>16</td>\n",
              "    </tr>\n",
              "    <tr>\n",
              "      <th>1</th>\n",
              "      <td>1</td>\n",
              "      <td>8</td>\n",
              "      <td>8</td>\n",
              "      <td>898.94</td>\n",
              "      <td>128</td>\n",
              "      <td>0</td>\n",
              "      <td>2</td>\n",
              "      <td>1</td>\n",
              "      <td>16</td>\n",
              "    </tr>\n",
              "    <tr>\n",
              "      <th>2</th>\n",
              "      <td>7</td>\n",
              "      <td>8</td>\n",
              "      <td>4</td>\n",
              "      <td>575.00</td>\n",
              "      <td>256</td>\n",
              "      <td>1</td>\n",
              "      <td>2</td>\n",
              "      <td>1</td>\n",
              "      <td>16</td>\n",
              "    </tr>\n",
              "    <tr>\n",
              "      <th>4</th>\n",
              "      <td>1</td>\n",
              "      <td>8</td>\n",
              "      <td>8</td>\n",
              "      <td>1803.60</td>\n",
              "      <td>256</td>\n",
              "      <td>1</td>\n",
              "      <td>2</td>\n",
              "      <td>1</td>\n",
              "      <td>16</td>\n",
              "    </tr>\n",
              "    <tr>\n",
              "      <th>5</th>\n",
              "      <td>0</td>\n",
              "      <td>4</td>\n",
              "      <td>5</td>\n",
              "      <td>400.00</td>\n",
              "      <td>500</td>\n",
              "      <td>0</td>\n",
              "      <td>0</td>\n",
              "      <td>0</td>\n",
              "      <td>5</td>\n",
              "    </tr>\n",
              "  </tbody>\n",
              "</table>\n",
              "</div>"
            ],
            "text/plain": [
              "   Company  Ram  OpSys  ...  Gpu_company  Cpu_company  Cpu_type\n",
              "0        1    8      8  ...            2            1        16\n",
              "1        1    8      8  ...            2            1        16\n",
              "2        7    8      4  ...            2            1        16\n",
              "4        1    8      8  ...            2            1        16\n",
              "5        0    4      5  ...            0            0         5\n",
              "\n",
              "[5 rows x 9 columns]"
            ]
          },
          "metadata": {},
          "execution_count": 205
        }
      ]
    },
    {
      "cell_type": "markdown",
      "metadata": {
        "id": "dGeOstKORpB1"
      },
      "source": [
        "1. buat variabel x dan y"
      ]
    },
    {
      "cell_type": "code",
      "metadata": {
        "id": "2iLe_QEy76O9"
      },
      "source": [
        "x = df.drop(columns=\"Price_euros\")\n",
        "y = df[\"Price_euros\"]"
      ],
      "execution_count": 206,
      "outputs": []
    },
    {
      "cell_type": "markdown",
      "metadata": {
        "id": "djSvz41hRssY"
      },
      "source": [
        "2. Bagi dataset menjadi 80% training & 20% testing (angka random yang digunakan adalah 5)"
      ]
    },
    {
      "cell_type": "code",
      "metadata": {
        "id": "g0vyncpz8G93"
      },
      "source": [
        "x_train, x_test, y_train, y_test = train_test_split(x, y, test_size=0.2, random_state=5)"
      ],
      "execution_count": 207,
      "outputs": []
    },
    {
      "cell_type": "markdown",
      "metadata": {
        "id": "mxdczBmbR-rC"
      },
      "source": [
        "Check shape dari data training dan testing"
      ]
    },
    {
      "cell_type": "code",
      "metadata": {
        "colab": {
          "base_uri": "https://localhost:8080/",
          "height": 0
        },
        "id": "jmw4oJh08Peh",
        "outputId": "51109350-2b3a-4b43-babb-30e58b48f139"
      },
      "source": [
        "print(x_train.shape)\n",
        "print(y_train.shape)\n",
        "print(x_test.shape)\n",
        "print(y_test.shape)"
      ],
      "execution_count": 208,
      "outputs": [
        {
          "output_type": "stream",
          "name": "stdout",
          "text": [
            "(998, 8)\n",
            "(998,)\n",
            "(250, 8)\n",
            "(250,)\n"
          ]
        }
      ]
    },
    {
      "cell_type": "markdown",
      "metadata": {
        "id": "YI_mC3dXSG5l"
      },
      "source": [
        "3. Buat objek linear regresi"
      ]
    },
    {
      "cell_type": "code",
      "metadata": {
        "id": "BfeUuBDK8T8j"
      },
      "source": [
        "lin_reg = LinearRegression()"
      ],
      "execution_count": 209,
      "outputs": []
    },
    {
      "cell_type": "markdown",
      "metadata": {
        "id": "blZXU_IXSLtr"
      },
      "source": [
        " 4. Train model menggunakan data training yang sudah dibagi"
      ]
    },
    {
      "cell_type": "code",
      "metadata": {
        "colab": {
          "base_uri": "https://localhost:8080/",
          "height": 0
        },
        "id": "PdHownQm8XjA",
        "outputId": "779c1876-ab18-497d-c3b9-d8738af2639c"
      },
      "source": [
        "lin_reg.fit(x_train, y_train)"
      ],
      "execution_count": 210,
      "outputs": [
        {
          "output_type": "execute_result",
          "data": {
            "text/plain": [
              "LinearRegression()"
            ]
          },
          "metadata": {},
          "execution_count": 210
        }
      ]
    },
    {
      "cell_type": "markdown",
      "metadata": {
        "id": "KLVvU3-WScuu"
      },
      "source": [
        "5. Cari tau nilai koefisien (m) dan intercept (b)"
      ]
    },
    {
      "cell_type": "code",
      "metadata": {
        "colab": {
          "base_uri": "https://localhost:8080/",
          "height": 0
        },
        "id": "aQ1aEUeD8cHv",
        "outputId": "1047c3fb-c643-4d6e-e1c8-4441e3afea30"
      },
      "source": [
        "print(lin_reg.coef_)\n",
        "print(lin_reg.intercept_)"
      ],
      "execution_count": 211,
      "outputs": [
        {
          "output_type": "stream",
          "name": "stdout",
          "text": [
            "[ 7.78923640e+00  6.89550815e+01  6.68864928e+01 -1.76918482e-01\n",
            "  1.43114424e+02  4.26296824e+01 -1.77492650e+02  3.85363219e+01]\n",
            "-374.97650260722\n"
          ]
        }
      ]
    },
    {
      "cell_type": "markdown",
      "metadata": {
        "id": "zdPSATIdSjIk"
      },
      "source": [
        "Buat ke dalam DataFrame"
      ]
    },
    {
      "cell_type": "code",
      "metadata": {
        "colab": {
          "base_uri": "https://localhost:8080/",
          "height": 290
        },
        "id": "7QMdKEXy8f7c",
        "outputId": "de90505e-d5dc-4eb5-d7c0-5841d1b147c1"
      },
      "source": [
        "coef_dict = {\n",
        "    \"features\": x.columns,\n",
        "    \"coef_value\": lin_reg.coef_\n",
        "}\n",
        "coef = pd.DataFrame(coef_dict, columns=[\"features\", \"coef_value\"])\n",
        "coef"
      ],
      "execution_count": 212,
      "outputs": [
        {
          "output_type": "execute_result",
          "data": {
            "text/html": [
              "<div>\n",
              "<style scoped>\n",
              "    .dataframe tbody tr th:only-of-type {\n",
              "        vertical-align: middle;\n",
              "    }\n",
              "\n",
              "    .dataframe tbody tr th {\n",
              "        vertical-align: top;\n",
              "    }\n",
              "\n",
              "    .dataframe thead th {\n",
              "        text-align: right;\n",
              "    }\n",
              "</style>\n",
              "<table border=\"1\" class=\"dataframe\">\n",
              "  <thead>\n",
              "    <tr style=\"text-align: right;\">\n",
              "      <th></th>\n",
              "      <th>features</th>\n",
              "      <th>coef_value</th>\n",
              "    </tr>\n",
              "  </thead>\n",
              "  <tbody>\n",
              "    <tr>\n",
              "      <th>0</th>\n",
              "      <td>Company</td>\n",
              "      <td>7.789236</td>\n",
              "    </tr>\n",
              "    <tr>\n",
              "      <th>1</th>\n",
              "      <td>Ram</td>\n",
              "      <td>68.955081</td>\n",
              "    </tr>\n",
              "    <tr>\n",
              "      <th>2</th>\n",
              "      <td>OpSys</td>\n",
              "      <td>66.886493</td>\n",
              "    </tr>\n",
              "    <tr>\n",
              "      <th>3</th>\n",
              "      <td>Memory_size</td>\n",
              "      <td>-0.176918</td>\n",
              "    </tr>\n",
              "    <tr>\n",
              "      <th>4</th>\n",
              "      <td>SSD or Not or Both</td>\n",
              "      <td>143.114424</td>\n",
              "    </tr>\n",
              "    <tr>\n",
              "      <th>5</th>\n",
              "      <td>Gpu_company</td>\n",
              "      <td>42.629682</td>\n",
              "    </tr>\n",
              "    <tr>\n",
              "      <th>6</th>\n",
              "      <td>Cpu_company</td>\n",
              "      <td>-177.492650</td>\n",
              "    </tr>\n",
              "    <tr>\n",
              "      <th>7</th>\n",
              "      <td>Cpu_type</td>\n",
              "      <td>38.536322</td>\n",
              "    </tr>\n",
              "  </tbody>\n",
              "</table>\n",
              "</div>"
            ],
            "text/plain": [
              "             features  coef_value\n",
              "0             Company    7.789236\n",
              "1                 Ram   68.955081\n",
              "2               OpSys   66.886493\n",
              "3         Memory_size   -0.176918\n",
              "4  SSD or Not or Both  143.114424\n",
              "5         Gpu_company   42.629682\n",
              "6         Cpu_company -177.492650\n",
              "7            Cpu_type   38.536322"
            ]
          },
          "metadata": {},
          "execution_count": 212
        }
      ]
    },
    {
      "cell_type": "markdown",
      "metadata": {
        "id": "K2P4YMUwS0dj"
      },
      "source": [
        "Dari nilai m dan b di atas, jika dimasukkan ke dalam rumus akan menjadi :\n",
        "\n",
        "y = 7.789236 + 68.955081 + 66.886493 - 0.176918 + 143.114424 + 42.629682 - 177.492650 + 38.536322"
      ]
    },
    {
      "cell_type": "code",
      "metadata": {
        "id": "MgDfQb_R8myL"
      },
      "source": [
        "y_pred = lin_reg.predict(x_test)"
      ],
      "execution_count": 213,
      "outputs": []
    },
    {
      "cell_type": "markdown",
      "metadata": {
        "id": "XvGIclZ9TSMI"
      },
      "source": [
        "6. Cari tau akurasi dari model yang telah kita buat menggunakan data testing"
      ]
    },
    {
      "cell_type": "code",
      "metadata": {
        "colab": {
          "base_uri": "https://localhost:8080/",
          "height": 0
        },
        "id": "08Ni4L7W8tDw",
        "outputId": "2c55d0c0-ae06-4397-c4f5-49ed36ee03c7"
      },
      "source": [
        "lin_reg.score(x_test, y_test)"
      ],
      "execution_count": 214,
      "outputs": [
        {
          "output_type": "execute_result",
          "data": {
            "text/plain": [
              "0.6407229852830805"
            ]
          },
          "metadata": {},
          "execution_count": 214
        }
      ]
    },
    {
      "cell_type": "markdown",
      "metadata": {
        "id": "LMiqkCOwTbJR"
      },
      "source": [
        "Akurasi dari model yang telah kita buat yaitu 64.07%"
      ]
    },
    {
      "cell_type": "markdown",
      "metadata": {
        "id": "gLIK984qTtvq"
      },
      "source": [
        "# Prediksi\n",
        "\n",
        "Prediksi harga laptop yang sesuai dengan spek minimum Aat :\n",
        "*   Keluaran    = Asus\n",
        "*   Ram         = 6 GB\n",
        "*   OS          = Windows 10\n",
        "*   Memory Size = 128 GB\n",
        "*   SSD/HDD/Both= SSD\n",
        "*   GPU         = AMD\n",
        "*   CPU         = Intel core i7\n"
      ]
    },
    {
      "cell_type": "code",
      "metadata": {
        "colab": {
          "base_uri": "https://localhost:8080/",
          "height": 0
        },
        "id": "9lztJX0B8vPw",
        "outputId": "304709ef-cbd6-44e9-efa1-dcbc1f60cf3e"
      },
      "source": [
        "lin_reg.predict([[2,6, 5, 128, 1,0,1,17]])"
      ],
      "execution_count": 215,
      "outputs": [
        {
          "output_type": "stream",
          "name": "stderr",
          "text": [
            "/usr/local/lib/python3.7/dist-packages/sklearn/base.py:446: UserWarning: X does not have valid feature names, but LinearRegression was fitted with feature names\n",
            "  \"X does not have valid feature names, but\"\n"
          ]
        },
        {
          "output_type": "execute_result",
          "data": {
            "text/plain": [
              "array([986.85860374])"
            ]
          },
          "metadata": {},
          "execution_count": 215
        }
      ]
    },
    {
      "cell_type": "markdown",
      "metadata": {
        "id": "fIcBlJ0ZUY6u"
      },
      "source": [
        "Prediksi harga laptop yang sesuai dengan spek Aat adalah 986.85 euro"
      ]
    }
  ]
}